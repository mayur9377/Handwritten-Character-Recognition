{
 "cells": [
  {
   "cell_type": "markdown",
   "id": "optimum-tumor",
   "metadata": {},
   "source": [
    "# Handwritten Character Recognition"
   ]
  },
  {
   "cell_type": "markdown",
   "id": "played-proof",
   "metadata": {},
   "source": [
    "##### Importing all the necessary modules"
   ]
  },
  {
   "cell_type": "code",
   "execution_count": 1,
   "id": "experimental-offer",
   "metadata": {},
   "outputs": [],
   "source": [
    "import matplotlib.pyplot as plt\n",
    "import cv2\n",
    "import numpy as np\n",
    "from keras.models import Sequential\n",
    "from keras.layers import Dense,Flatten,Conv2D,MaxPool2D,Dropout\n",
    "from keras.optimizers import SGD,Adam\n",
    "from keras.callbacks import ReduceLROnPlateau,EarlyStopping\n",
    "from keras.utils import to_categorical\n",
    "import pandas as pd\n",
    "from sklearn.model_selection import train_test_split\n",
    "from sklearn.utils import shuffle"
   ]
  },
  {
   "cell_type": "markdown",
   "id": "final-correction",
   "metadata": {},
   "source": [
    "##### Reading data from csv file"
   ]
  },
  {
   "cell_type": "code",
   "execution_count": 2,
   "id": "fuzzy-semester",
   "metadata": {},
   "outputs": [],
   "source": [
    "data=pd.read_csv(r\"E:\\A_Z Handwritten Data.csv\").astype('float32')"
   ]
  },
  {
   "cell_type": "markdown",
   "id": "extended-monaco",
   "metadata": {},
   "source": [
    "##### Splitting data into images and their labels"
   ]
  },
  {
   "cell_type": "code",
   "execution_count": 3,
   "id": "popular-carrier",
   "metadata": {},
   "outputs": [],
   "source": [
    "X=data.drop('0',axis=1)\n",
    "y=data['0']"
   ]
  },
  {
   "cell_type": "markdown",
   "id": "informational-fault",
   "metadata": {},
   "source": [
    "##### Splitting data into training and test sets"
   ]
  },
  {
   "cell_type": "code",
   "execution_count": 10,
   "id": "mysterious-raise",
   "metadata": {},
   "outputs": [
    {
     "name": "stdout",
     "output_type": "stream",
     "text": [
      "Train data shape:  (297960, 28, 28)\n",
      "Test data shape:  (74490, 28, 28)\n"
     ]
    }
   ],
   "source": [
    "train_x,test_x,train_y,test_y=train_test_split(X,y,test_size=0.2)\n",
    "train_x=np.reshape(train_x.values,(train_x.shape[0],28,28))\n",
    "test_x=np.reshape(test_x.values,(test_x.shape[0],28,28))\n",
    "print(\"Train data shape: \",train_x.shape)\n",
    "print(\"Test data shape: \",test_x.shape)"
   ]
  },
  {
   "cell_type": "markdown",
   "id": "secondary-technology",
   "metadata": {},
   "source": [
    "##### Creating a dictionary to map integer values with the characters"
   ]
  },
  {
   "cell_type": "code",
   "execution_count": 6,
   "id": "electric-treasure",
   "metadata": {},
   "outputs": [],
   "source": [
    "word_dict = {0:'A',1:'B',2:'C',3:'D',4:'E',5:'F',6:'G',7:'H',8:'I',9:'J',10:'K',11:'L',12:'M',13:'N',14:'O',15:'P',16:'Q',17:'R',18:'S',19:'T',20:'U',21:'V',22:'W',23:'X', 24:'Y',25:'Z'}"
   ]
  },
  {
   "cell_type": "markdown",
   "id": "greater-suspension",
   "metadata": {},
   "source": [
    "##### Shuffling the data and displaying random threshold images of 9 alphabets"
   ]
  },
  {
   "cell_type": "code",
   "execution_count": 11,
   "id": "catholic-mystery",
   "metadata": {},
   "outputs": [
    {
     "data": {
      "image/png": "[encoded data removed]",
      "text/plain": [
       "<Figure size 720x720 with 9 Axes>"
      ]
     },
     "metadata": {
      "needs_background": "light"
     },
     "output_type": "display_data"
    }
   ],
   "source": [
    "#shuffling data\n",
    "shuff=shuffle(train_x[:100])\n",
    "\n",
    "fig,ax=plt.subplots(3,3,figsize=(10,10))\n",
    "axes=ax.flatten()\n",
    "\n",
    "for i in range(9):\n",
    "    _,shu=cv2.threshold(shuff[i],30,200,cv2.THRESH_BINARY)\n",
    "    axes[i].imshow(np.reshape(shuff[i],(28,28)),cmap=\"Greys\")\n",
    "plt.show()    "
   ]
  },
  {
   "cell_type": "markdown",
   "id": "coordinate-scholarship",
   "metadata": {},
   "source": [
    "##### reshaping training and test data"
   ]
  },
  {
   "cell_type": "code",
   "execution_count": 12,
   "id": "dying-carol",
   "metadata": {},
   "outputs": [
    {
     "name": "stdout",
     "output_type": "stream",
     "text": [
      "New shape of train data:  (297960, 28, 28, 1)\n",
      "New shape of train data:  (74490, 28, 28, 1)\n"
     ]
    }
   ],
   "source": [
    "#reshaping training and test data\n",
    "train_X=train_x.reshape(train_x.shape[0],train_x.shape[1],train_x.shape[2],1)\n",
    "print(\"New shape of train data: \", train_X.shape)\n",
    "\n",
    "test_X = test_x.reshape(test_x.shape[0], test_x.shape[1], test_x.shape[2],1)\n",
    "print(\"New shape of train data: \", test_X.shape)"
   ]
  },
  {
   "cell_type": "markdown",
   "id": "derived-observer",
   "metadata": {},
   "source": [
    "##### converting single float values to categorical values"
   ]
  },
  {
   "cell_type": "code",
   "execution_count": 13,
   "id": "declared-black",
   "metadata": {},
   "outputs": [
    {
     "name": "stdout",
     "output_type": "stream",
     "text": [
      "New shape of train labels:  (297960, 26)\n",
      "New shape of test labels:  (74490, 26)\n"
     ]
    }
   ],
   "source": [
    "train_y_1=to_categorical(train_y,num_classes=26,dtype='int')\n",
    "print(\"New shape of train labels: \",train_y_1.shape)\n",
    "\n",
    "test_y_1=to_categorical(test_y,num_classes=26,dtype='int')\n",
    "print(\"New shape of test labels: \",test_y_1.shape)"
   ]
  },
  {
   "cell_type": "markdown",
   "id": "random-consultancy",
   "metadata": {},
   "source": [
    "##### Creating a CNN model"
   ]
  },
  {
   "cell_type": "code",
   "execution_count": 15,
   "id": "different-teach",
   "metadata": {},
   "outputs": [],
   "source": [
    "#creating model\n",
    "model=Sequential()\n",
    "\n",
    "model.add(Conv2D(filters=32,kernel_size=(3,3),activation='relu',input_shape=(28,28,1)))\n",
    "model.add(MaxPool2D(pool_size=(2,2),strides=2))\n",
    "\n",
    "model.add(Conv2D(filters=64,kernel_size=(3,3),activation='relu',padding='same'))\n",
    "model.add(MaxPool2D(pool_size=(2,2),strides=2))\n",
    "\n",
    "model.add(Conv2D(filters=128,kernel_size=(3,3),activation='relu',padding='valid'))\n",
    "model.add(MaxPool2D(pool_size=(2,2),strides=2))\n",
    "\n",
    "model.add(Flatten())\n",
    "\n",
    "model.add(Dense(64,activation='relu'))\n",
    "model.add(Dense(128,activation='relu'))\n",
    "\n",
    "model.add(Dense(26,activation='softmax'))"
   ]
  },
  {
   "cell_type": "markdown",
   "id": "sonic-manhattan",
   "metadata": {},
   "source": [
    "##### compiling and fitting model"
   ]
  },
  {
   "cell_type": "code",
   "execution_count": 16,
   "id": "noted-nightmare",
   "metadata": {},
   "outputs": [
    {
     "name": "stdout",
     "output_type": "stream",
     "text": [
      "9312/9312 [==============================] - 413s 44ms/step - loss: 0.1579 - accuracy: 0.9568 - val_loss: 0.1013 - val_accuracy: 0.9728\n"
     ]
    }
   ],
   "source": [
    "model.compile(optimizer=Adam(learning_rate=0.001),loss='categorical_crossentropy',metrics=['accuracy'])\n",
    "history=model.fit(train_X,train_y_1,epochs=1,validation_data=(test_X,test_y_1))\n"
   ]
  },
  {
   "cell_type": "markdown",
   "id": "mysterious-scout",
   "metadata": {},
   "source": [
    "### Model summary"
   ]
  },
  {
   "cell_type": "code",
   "execution_count": 17,
   "id": "acoustic-dialogue",
   "metadata": {},
   "outputs": [
    {
     "name": "stdout",
     "output_type": "stream",
     "text": [
      "Model: \"sequential_1\"\n",
      "_________________________________________________________________\n",
      "Layer (type)                 Output Shape              Param #   \n",
      "=================================================================\n",
      "conv2d_2 (Conv2D)            (None, 26, 26, 32)        320       \n",
      "_________________________________________________________________\n",
      "max_pooling2d_1 (MaxPooling2 (None, 13, 13, 32)        0         \n",
      "_________________________________________________________________\n",
      "conv2d_3 (Conv2D)            (None, 13, 13, 64)        18496     \n",
      "_________________________________________________________________\n",
      "max_pooling2d_2 (MaxPooling2 (None, 6, 6, 64)          0         \n",
      "_________________________________________________________________\n",
      "conv2d_4 (Conv2D)            (None, 4, 4, 128)         73856     \n",
      "_________________________________________________________________\n",
      "max_pooling2d_3 (MaxPooling2 (None, 2, 2, 128)         0         \n",
      "_________________________________________________________________\n",
      "flatten (Flatten)            (None, 512)               0         \n",
      "_________________________________________________________________\n",
      "dense (Dense)                (None, 64)                32832     \n",
      "_________________________________________________________________\n",
      "dense_1 (Dense)              (None, 128)               8320      \n",
      "_________________________________________________________________\n",
      "dense_2 (Dense)              (None, 26)                3354      \n",
      "=================================================================\n",
      "Total params: 137,178\n",
      "Trainable params: 137,178\n",
      "Non-trainable params: 0\n",
      "_________________________________________________________________\n"
     ]
    }
   ],
   "source": [
    "model.summary()\n",
    "model.save(r'model_char_recog.h5')"
   ]
  },
  {
   "cell_type": "markdown",
   "id": "concrete-indie",
   "metadata": {},
   "source": [
    "#### Validation and training accuracy & losses"
   ]
  },
  {
   "cell_type": "code",
   "execution_count": 18,
   "id": "measured-police",
   "metadata": {},
   "outputs": [
    {
     "name": "stdout",
     "output_type": "stream",
     "text": [
      "validation accuracy:  [0.9728419780731201]\n",
      "training accuracy:  [0.9568063020706177]\n",
      "validation loss:  [0.1013118103146553]\n",
      "training loss:  [0.15786786377429962]\n"
     ]
    }
   ],
   "source": [
    "print(\"validation accuracy: \",history.history['val_accuracy'])\n",
    "print(\"training accuracy: \",history.history['accuracy'])\n",
    "print(\"validation loss: \",history.history['val_loss'])\n",
    "print(\"training loss: \",history.history['loss'])"
   ]
  },
  {
   "cell_type": "markdown",
   "id": "acquired-electric",
   "metadata": {},
   "source": [
    "### Predictions on Test data"
   ]
  },
  {
   "cell_type": "code",
   "execution_count": 19,
   "id": "intelligent-marshall",
   "metadata": {},
   "outputs": [
    {
     "data": {
      "image/png": "[encoded data removed]",
      "text/plain": [
       "<Figure size 576x648 with 9 Axes>"
      ]
     },
     "metadata": {
      "needs_background": "light"
     },
     "output_type": "display_data"
    }
   ],
   "source": [
    "#prediction on test data\n",
    "fig,axes=plt.subplots(3,3,figsize=(8,9))\n",
    "axes=axes.flatten()\n",
    "\n",
    "for i,ax in enumerate(axes):\n",
    "    img=np.reshape(test_X[i],(28,28))\n",
    "    ax.imshow(img,cmap=\"Greys\")\n",
    "    \n",
    "    pred=word_dict[np.argmax(test_y_1[i])]\n",
    "    ax.set_title(\"Prediction: \"+pred)\n",
    "    ax.grid()"
   ]
  },
  {
   "cell_type": "markdown",
   "id": "remarkable-failing",
   "metadata": {},
   "source": [
    "### Making Predictions"
   ]
  },
  {
   "cell_type": "code",
   "execution_count": 12,
   "id": "immediate-benchmark",
   "metadata": {},
   "outputs": [],
   "source": [
    "img = cv2.imread(r'C:\\Users\\Excel Computer\\Desktop\\b_1.jpeg')\n",
    "img_copy = img.copy()\n",
    "\n",
    "img = cv2.cvtColor(img, cv2.COLOR_BGR2RGB)\n",
    "img = cv2.resize(img, (400,440))"
   ]
  },
  {
   "cell_type": "code",
   "execution_count": 13,
   "id": "sufficient-ballet",
   "metadata": {},
   "outputs": [],
   "source": [
    "img_copy = cv2.GaussianBlur(img_copy, (7,7), 0)\n",
    "img_gray = cv2.cvtColor(img_copy, cv2.COLOR_BGR2GRAY)\n",
    "_, img_thresh = cv2.threshold(img_gray, 100, 255, cv2.THRESH_BINARY_INV)\n",
    "\n",
    "img_final = cv2.resize(img_thresh, (28,28))\n",
    "img_final =np.reshape(img_final, (1,28,28,1))"
   ]
  },
  {
   "cell_type": "code",
   "execution_count": 15,
   "id": "certain-james",
   "metadata": {},
   "outputs": [
    {
     "name": "stdout",
     "output_type": "stream",
     "text": [
      "WARNING:tensorflow:5 out of the last 5 calls to <function Model.make_predict_function.<locals>.predict_function at 0x00000179FC312B70> triggered tf.function retracing. Tracing is expensive and the excessive number of tracings could be due to (1) creating @tf.function repeatedly in a loop, (2) passing tensors with different shapes, (3) passing Python objects instead of tensors. For (1), please define your @tf.function outside of the loop. For (2), @tf.function has experimental_relax_shapes=True option that relaxes argument shapes that can avoid unnecessary retracing. For (3), please refer to https://www.tensorflow.org/tutorials/customization/performance#python_or_tensor_args and https://www.tensorflow.org/api_docs/python/tf/function for  more details.\n"
     ]
    }
   ],
   "source": [
    "from keras.models import load_model\n",
    "model=load_model(r'model_char_recog.h5')\n",
    "img_pred = word_dict[np.argmax(model.predict(img_final))]\n",
    "cv2.putText(img, \"Prediction: \" + img_pred, (20,410), cv2.FONT_HERSHEY_DUPLEX, 1.3, color = (255,0,30))\n",
    "cv2.imshow('Handwritten Character Recognition', img)\n",
    "while (1):\n",
    "    k = cv2.waitKey(1) & 0xFF\n",
    "    if k == 27:\n",
    "        break\n",
    "cv2.destroyAllWindows()"
   ]
  }
 ],
 "metadata": {
  "kernelspec": {
   "display_name": "Python 3",
   "language": "python",
   "name": "python3"
  },
  "language_info": {
   "codemirror_mode": {
    "name": "ipython",
    "version": 3
   },
   "file_extension": ".py",
   "mimetype": "text/x-python",
   "name": "python",
   "nbconvert_exporter": "python",
   "pygments_lexer": "ipython3",
   "version": "3.7.3"
  }
 },
 "nbformat": 4,
 "nbformat_minor": 5
}
